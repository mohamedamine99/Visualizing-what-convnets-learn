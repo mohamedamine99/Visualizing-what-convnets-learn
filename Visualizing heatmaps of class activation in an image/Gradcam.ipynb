{
  "nbformat": 4,
  "nbformat_minor": 0,
  "metadata": {
    "colab": {
      "provenance": []
    },
    "kernelspec": {
      "name": "python3",
      "display_name": "Python 3"
    },
    "language_info": {
      "name": "python"
    }
  },
  "cells": [
    {
      "cell_type": "code",
      "source": [
        "!git clone https://github.com/mohamedamine99/Visualizing-what-convnets-learn"
      ],
      "metadata": {
        "colab": {
          "base_uri": "https://localhost:8080/"
        },
        "id": "g6hVMpNt3CmI",
        "outputId": "6ee59270-f611-4cee-c43f-d642760108eb"
      },
      "execution_count": 1,
      "outputs": [
        {
          "output_type": "stream",
          "name": "stdout",
          "text": [
            "Cloning into 'Visualizing-what-convnets-learn'...\n",
            "remote: Enumerating objects: 2288, done.\u001b[K\n",
            "remote: Counting objects: 100% (262/262), done.\u001b[K\n",
            "remote: Compressing objects: 100% (199/199), done.\u001b[K\n",
            "remote: Total 2288 (delta 66), reused 249 (delta 57), pack-reused 2026\u001b[K\n",
            "Receiving objects: 100% (2288/2288), 549.35 MiB | 31.43 MiB/s, done.\n",
            "Resolving deltas: 100% (69/69), done.\n",
            "Updating files: 100% (2171/2171), done.\n"
          ]
        }
      ]
    },
    {
      "cell_type": "code",
      "execution_count": 2,
      "metadata": {
        "id": "mBIR5L_ZN_Q3"
      },
      "outputs": [],
      "source": [
        "import os\n",
        "import shutil\n",
        "\n",
        "import tensorflow as tf\n",
        "from tensorflow.keras.models import Model, load_model\n",
        "\n",
        "import cv2\n",
        "import matplotlib.pyplot as plt\n",
        "import imageio\n",
        "\n",
        "import numpy as np"
      ]
    },
    {
      "cell_type": "code",
      "source": [
        "CNN_model_path = '/content/Visualizing-what-convnets-learn/models/CNN cats vs dogs model.hdf5'\n",
        "tf_learning_model = '/content/Visualizing-what-convnets-learn/models/mobilenetV2 cats vs dogs transfer learning.h5'\n",
        "test_imgs_path = '/content/Visualizing-what-convnets-learn/test images'\n",
        "test_vids_path = '/content/Visualizing-what-convnets-learn/test videos'\n",
        "results_path = '/content/results'\n",
        "\n",
        "CNN_model = load_model(CNN_model_path)\n",
        "CNN_model.summary()"
      ],
      "metadata": {
        "colab": {
          "base_uri": "https://localhost:8080/"
        },
        "id": "KGM1riZpOqnS",
        "outputId": "b4b580d1-2500-499e-b0da-05e770c89c92"
      },
      "execution_count": 3,
      "outputs": [
        {
          "output_type": "stream",
          "name": "stdout",
          "text": [
            "Model: \"sequential_1\"\n",
            "_________________________________________________________________\n",
            " Layer (type)                Output Shape              Param #   \n",
            "=================================================================\n",
            " conv2d_3 (Conv2D)           (None, 126, 126, 32)      896       \n",
            "                                                                 \n",
            " batch_normalization_4 (Batc  (None, 126, 126, 32)     128       \n",
            " hNormalization)                                                 \n",
            "                                                                 \n",
            " max_pooling2d_3 (MaxPooling  (None, 63, 63, 32)       0         \n",
            " 2D)                                                             \n",
            "                                                                 \n",
            " dropout_4 (Dropout)         (None, 63, 63, 32)        0         \n",
            "                                                                 \n",
            " conv2d_4 (Conv2D)           (None, 61, 61, 64)        18496     \n",
            "                                                                 \n",
            " batch_normalization_5 (Batc  (None, 61, 61, 64)       256       \n",
            " hNormalization)                                                 \n",
            "                                                                 \n",
            " max_pooling2d_4 (MaxPooling  (None, 30, 30, 64)       0         \n",
            " 2D)                                                             \n",
            "                                                                 \n",
            " dropout_5 (Dropout)         (None, 30, 30, 64)        0         \n",
            "                                                                 \n",
            " conv2d_5 (Conv2D)           (None, 28, 28, 128)       73856     \n",
            "                                                                 \n",
            " batch_normalization_6 (Batc  (None, 28, 28, 128)      512       \n",
            " hNormalization)                                                 \n",
            "                                                                 \n",
            " max_pooling2d_5 (MaxPooling  (None, 14, 14, 128)      0         \n",
            " 2D)                                                             \n",
            "                                                                 \n",
            " dropout_6 (Dropout)         (None, 14, 14, 128)       0         \n",
            "                                                                 \n",
            " conv2d_6 (Conv2D)           (None, 12, 12, 256)       295168    \n",
            "                                                                 \n",
            " batch_normalization_7 (Batc  (None, 12, 12, 256)      1024      \n",
            " hNormalization)                                                 \n",
            "                                                                 \n",
            " max_pooling2d_6 (MaxPooling  (None, 6, 6, 256)        0         \n",
            " 2D)                                                             \n",
            "                                                                 \n",
            " dropout_7 (Dropout)         (None, 6, 6, 256)         0         \n",
            "                                                                 \n",
            " flatten_1 (Flatten)         (None, 9216)              0         \n",
            "                                                                 \n",
            " dense_2 (Dense)             (None, 512)               4719104   \n",
            "                                                                 \n",
            " batch_normalization_8 (Batc  (None, 512)              2048      \n",
            " hNormalization)                                                 \n",
            "                                                                 \n",
            " dropout_8 (Dropout)         (None, 512)               0         \n",
            "                                                                 \n",
            " dense_3 (Dense)             (None, 1)                 513       \n",
            "                                                                 \n",
            "=================================================================\n",
            "Total params: 5,112,001\n",
            "Trainable params: 5,110,017\n",
            "Non-trainable params: 1,984\n",
            "_________________________________________________________________\n"
          ]
        }
      ]
    },
    {
      "cell_type": "code",
      "source": [
        "if not os.path.exists(results_path):\n",
        "    os.mkdir(results_path)\n",
        "    print(f\"Directory '{results_path}' created!\")"
      ],
      "metadata": {
        "colab": {
          "base_uri": "https://localhost:8080/"
        },
        "id": "ETunQkwwaDkt",
        "outputId": "e2c7466c-57ea-4715-abd0-fd6b7861a7de"
      },
      "execution_count": 4,
      "outputs": [
        {
          "output_type": "stream",
          "name": "stdout",
          "text": [
            "Directory '/content/results' created!\n"
          ]
        }
      ]
    },
    {
      "cell_type": "code",
      "source": [
        "# testing and visualizing CNN model predictions\n",
        "def test_CNN_model(CNN_model= None, test_imgs_path = '', labels = []):\n",
        "    pre_processed_imgs = []\n",
        "    ncols = len(os.listdir(test_imgs_path))\n",
        "    fig = plt.figure(figsize=(8, 5))\n",
        "    for i , img_file in enumerate(os.listdir(test_imgs_path)):\n",
        "        print(img_file)\n",
        "        img = cv2.imread(os.path.join(test_imgs_path,img_file))\n",
        "        if (img is None):\n",
        "            continue\n",
        "        img = cv2.cvtColor(img, cv2.COLOR_BGR2RGB)\n",
        "        fig.add_subplot(1, ncols, i+1)\n",
        "        plt.imshow(img)\n",
        "        plt.axis('off')\n",
        "        \n",
        "        img = cv2.resize(img,(128,128))\n",
        "        img = img / 255\n",
        "        img = np.reshape(img,(1,128,128,3))\n",
        "        pre_processed_imgs.append(img)\n",
        "        results = CNN_model.predict(img,verbose = 0)\n",
        "        print(results)\n",
        "        results = np.squeeze(results)\n",
        "        plt.title(labels[np.round(results).astype(int)])\n",
        "\n",
        "        print(results)\n",
        "    return pre_processed_imgs\n",
        "        "
      ],
      "metadata": {
        "id": "PmwJIU283sN1"
      },
      "execution_count": 5,
      "outputs": []
    },
    {
      "cell_type": "code",
      "source": [
        "a = test_CNN_model(CNN_model, test_imgs_path, labels = [\"cat\",\"dog\"])"
      ],
      "metadata": {
        "colab": {
          "base_uri": "https://localhost:8080/",
          "height": 352
        },
        "id": "FqgH4UG1QAs_",
        "outputId": "d3898766-9bbd-4d50-8ddf-7ed2c487ae76"
      },
      "execution_count": 6,
      "outputs": [
        {
          "output_type": "stream",
          "name": "stdout",
          "text": [
            "dog.PNG\n",
            "[[0.99410754]]\n",
            "0.99410754\n",
            "cat.PNG\n",
            "[[9.113619e-05]]\n",
            "9.113619e-05\n",
            "2 dogs.PNG\n",
            "[[0.99938726]]\n",
            "0.99938726\n",
            "2 cats.PNG\n",
            "[[4.8152042e-09]]\n",
            "4.8152042e-09\n"
          ]
        },
        {
          "output_type": "display_data",
          "data": {
            "text/plain": [
              "<Figure size 576x360 with 4 Axes>"
            ],
            "image/png": "[encoded data removed]"
          },
          "metadata": {
            "needs_background": "light"
          }
        }
      ]
    },
    {
      "cell_type": "code",
      "source": [
        "def preprocess_img(img : np.ndarray , size = (128,128)):\n",
        "    img = cv2.resize(img, size)\n",
        "    img = img / 255\n",
        "    img = np.expand_dims(img, axis = 0)\n",
        "    return img\n"
      ],
      "metadata": {
        "id": "wyc7aguvQ6Hn"
      },
      "execution_count": 7,
      "outputs": []
    },
    {
      "cell_type": "code",
      "source": [
        "def extract_last_conv_layer(model):\n",
        "    for layer in reversed(model.layers):\n",
        "        if len(layer.output_shape) == 4:\n",
        "            #print(layer.output_shape)\n",
        "            return layer.name"
      ],
      "metadata": {
        "id": "0sfqsSzjSjv6"
      },
      "execution_count": 8,
      "outputs": []
    },
    {
      "cell_type": "code",
      "source": [
        "def generate_heatmap(img : np.ndarray, model = None, activations_layer ='auto', \n",
        "                     class_id = 1 , cmap = cv2.COLORMAP_HOT):\n",
        "\n",
        "    if activations_layer == 'auto':\n",
        "        layer_name = extract_last_conv_layer(model)\n",
        "        last_conv_layer = model.get_layer(layer_name)\n",
        "    else:\n",
        "        last_conv_layer = model.get_layer(activations_layer)\n",
        "\n",
        "    grads_model = Model(inputs = [model.inputs], outputs = [last_conv_layer.output, model.output])\n",
        "    #print(type(grads_model))\n",
        "    with tf.GradientTape() as tape:\n",
        "        img = tf.cast(img, tf.float32)\n",
        "        last_conv_activations, preds = grads_model(img)\n",
        "\n",
        "        #print(model.output_shape[1])\n",
        "\n",
        "        if model.output_shape[1] == 1:\n",
        "            grads = tape.gradient(preds , last_conv_activations)\n",
        "\n",
        "        else :\n",
        "            grads = tape.gradient(preds[:,class_id] , last_conv_activations)\n",
        "    \n",
        "    #print(type(grads))\n",
        "    cast_grads = tf.cast(grads > 0 , tf.float32)\n",
        "    cast_activations = tf.cast(last_conv_activations > 0 , tf.float32 )\n",
        "    guided_grads = cast_grads * cast_activations * grads\n",
        "\n",
        "    #print(guided_grads.shape)\n",
        "\n",
        "    guided_grads = guided_grads[0]\n",
        "    last_conv_activations = last_conv_activations[0]\n",
        "\n",
        "    weights = tf.reduce_mean(guided_grads, axis = (0,1))\n",
        "\n",
        "    heatmap = tf.multiply(last_conv_activations, weights )\n",
        "    heatmap = tf.reduce_sum(heatmap , axis = -1)\n",
        "\n",
        "    heatmap = heatmap - np.min(heatmap)\n",
        "    heatmap = heatmap / (np.max(heatmap) - np.min(heatmap) + 1e-6)\n",
        "    heatmap = np.uint8(255 * heatmap)\n",
        "    heatmap = cv2.resize(heatmap , (img.shape[2], img.shape[1]))\n",
        "    heatmap = cv2.applyColorMap(heatmap, cmap)\n",
        "    heatmap = cv2.cvtColor(heatmap, cv2.COLOR_BGR2RGB)\n",
        "\n",
        "    #print((img.shape[1], img.shape[0]))\n",
        "    #plt.imshow(heatmap)\n",
        "\n",
        "    return heatmap\n",
        "\n",
        "\n"
      ],
      "metadata": {
        "id": "SFQ1nHO3m_A7"
      },
      "execution_count": 9,
      "outputs": []
    },
    {
      "cell_type": "code",
      "source": [
        "def overlay_heatmap(heatmap : np.ndarray , img: np.ndarray, alpha = 0.5 , beta = 0.7):\n",
        "    heatmap = cv2.resize(heatmap, (img.shape[1],img.shape[0]))\n",
        "    output = cv2.addWeighted(img, alpha , heatmap, beta, 0)\n",
        "    #output = cv2.cvtColor(output, cv2.COLOR_BGR2RGB)\n",
        "\n",
        "    #plt.imshow(output)\n",
        "    return output\n"
      ],
      "metadata": {
        "id": "AjXZeHr-G_s6"
      },
      "execution_count": 10,
      "outputs": []
    },
    {
      "cell_type": "code",
      "source": [
        "for img_file in os.listdir(test_imgs_path):\n",
        "    img = cv2.imread(os.path.join(test_imgs_path, img_file))\n",
        "    img = cv2.cvtColor(img, cv2.COLOR_BGR2RGB)\n",
        "    img_processed = preprocess_img(img)\n",
        "    heatmap = generate_heatmap(img_processed, model = CNN_model, activations_layer ='auto',cmap = cv2.COLORMAP_JET)\n",
        "    overlayed = overlay_heatmap(heatmap , img, alpha = 0.5 , beta = 0.7)\n",
        "\n",
        "    overlayed = cv2.cvtColor(overlayed , cv2.COLOR_BGR2RGB)\n",
        "    heatmap = cv2.cvtColor(heatmap , cv2.COLOR_BGR2RGB)\n",
        "\n",
        "    cv2.imwrite(os.path.join(results_path, f'{img_file[:-4]}_heatmap_only.png'), heatmap)\n",
        "    cv2.imwrite(os.path.join(results_path, f'{img_file[:-4]}_heatmap_overlayed.png'), overlayed)\n",
        "    \n",
        "\n"
      ],
      "metadata": {
        "id": "SE-w0i-KOV2H"
      },
      "execution_count": 11,
      "outputs": []
    },
    {
      "cell_type": "code",
      "source": [
        "def video_heatmap_overlay(video_file , save_file, \n",
        "                        model, activations_layer ='auto',\n",
        "                        preprocess_size = (128,128),\n",
        "                        class_id = 10,\n",
        "                        cmap = cv2.COLORMAP_JET,\n",
        "                        alpha = 0.5 , beta = 0.7) :\n",
        "\n",
        "    cap = cv2.VideoCapture(video_file)\n",
        "\n",
        "    width  = int(cap.get(3) )  # get `width` \n",
        "    height = int(cap.get(4) )  # get `height` \n",
        "\n",
        "    # define an output VideoWriter  object\n",
        "    out = cv2.VideoWriter(save_file,\n",
        "                        cv2.VideoWriter_fourcc(*\"MJPG\"),\n",
        "                        15,(width,height))\n",
        "\n",
        "    # Check if the webcam is opened correctly\n",
        "    if not cap.isOpened():\n",
        "        print(\"Error opening video stream or file\")\n",
        "\n",
        "\n",
        "    # Read the video frames\n",
        "    while cap.isOpened():\n",
        "        ret, frame = cap.read()\n",
        "\n",
        "        # If the frame was not read successfully, break the loop\n",
        "        if not ret:\n",
        "            print(\"Error reading frame\")\n",
        "            print((width,height),overlayed.shape)\n",
        "            break\n",
        "\n",
        "        # Capture the video frame\n",
        "        # by frame\n",
        "        frame = cv2.cvtColor(frame, cv2.COLOR_BGR2RGB)\n",
        "        frame_processed = preprocess_img(frame , size = preprocess_size)\n",
        "\n",
        "        heatmap = generate_heatmap(frame_processed, model = model, class_id = class_id,\n",
        "                                   activations_layer = activations_layer, cmap = cmap)\n",
        "        overlayed = overlay_heatmap(heatmap , frame , alpha = alpha , beta = beta)\n",
        "\n",
        "        overlayed = cv2.cvtColor(overlayed , cv2.COLOR_BGR2RGB)\n",
        "\n",
        "        out.write(overlayed)\n",
        "        \n",
        "        # the 'q' button is set as the\n",
        "        # quitting button you may use any\n",
        "        # desired button of your choice\n",
        "\n",
        "        if cv2.waitKey(1) & 0xFF == ord('q'):\n",
        "            break\n",
        "\n",
        "    # After the loop release the cap object\n",
        "    cap.release()\n",
        "    out.release()"
      ],
      "metadata": {
        "id": "HNRN3tJYIRxu"
      },
      "execution_count": 12,
      "outputs": []
    },
    {
      "cell_type": "code",
      "source": [
        "for i , video_file in enumerate(os.listdir(test_vids_path)):\n",
        "\n",
        "    save_file = os.path.join(results_path, f\"{video_file[:3]}_{str(i+1)}_heatmap.avi\")\n",
        "    print(save_file)\n",
        "    \n",
        "    video_heatmap_overlay(video_file = os.path.join(test_vids_path, video_file) , \n",
        "                          save_file = save_file, \n",
        "                          model = CNN_model, activations_layer ='auto',\n",
        "                          cmap = cv2.COLORMAP_JET,\n",
        "                          alpha = 0.5 , beta = 0.7)\n"
      ],
      "metadata": {
        "colab": {
          "base_uri": "https://localhost:8080/"
        },
        "id": "fdwSL3DKShVF",
        "outputId": "60f2bea9-86c0-4a9c-f59b-f9563f9a1398"
      },
      "execution_count": 13,
      "outputs": [
        {
          "output_type": "stream",
          "name": "stdout",
          "text": [
            "/content/results/cat_1_heatmap.avi\n",
            "Error reading frame\n",
            "(608, 1080) (1080, 608, 3)\n",
            "/content/results/cat_2_heatmap.avi\n",
            "Error reading frame\n",
            "(360, 640) (640, 360, 3)\n",
            "/content/results/dog_3_heatmap.avi\n",
            "Error reading frame\n",
            "(720, 1280) (1280, 720, 3)\n",
            "/content/results/dog_4_heatmap.avi\n",
            "Error reading frame\n",
            "(608, 1080) (1080, 608, 3)\n"
          ]
        }
      ]
    },
    {
      "cell_type": "code",
      "source": [
        "from tensorflow.keras.applications import mobilenet_v2\n",
        "\n",
        "mnet_model = mobilenet_v2.MobileNetV2(input_shape = (128,128,3),\n",
        "                                    include_top = True,\n",
        "                                     weights = 'imagenet'\n",
        "                                    )"
      ],
      "metadata": {
        "colab": {
          "base_uri": "https://localhost:8080/"
        },
        "id": "ZkerlE4aea-R",
        "outputId": "51fad74e-8eee-43bb-bd52-eaf403935bd4"
      },
      "execution_count": 14,
      "outputs": [
        {
          "output_type": "stream",
          "name": "stdout",
          "text": [
            "Downloading data from https://storage.googleapis.com/tensorflow/keras-applications/mobilenet_v2/mobilenet_v2_weights_tf_dim_ordering_tf_kernels_1.0_128.h5\n",
            "14536120/14536120 [==============================] - 0s 0us/step\n"
          ]
        }
      ]
    },
    {
      "cell_type": "code",
      "source": [
        "for i , video_file in enumerate(os.listdir(test_vids_path)):\n",
        "\n",
        "    save_file = os.path.join(results_path, f\"mnet_{video_file[:3]}_{str(i+1)}_heatmap.avi\")\n",
        "    print(save_file)\n",
        "    if \"cat\" in video_file:\n",
        "        class_id = 281 # tabby cat class\n",
        "    elif \"dog\" in video_file:\n",
        "        class_id = 235 # german shepherd class\n",
        "    video_heatmap_overlay(video_file = os.path.join(test_vids_path, video_file) , \n",
        "                        save_file = save_file, \n",
        "                        model = mnet_model, activations_layer ='Conv_1',\n",
        "                        class_id = class_id,\n",
        "                        cmap = cv2.COLORMAP_JET,\n",
        "                        alpha = 0.5 , beta = 0.7)"
      ],
      "metadata": {
        "colab": {
          "base_uri": "https://localhost:8080/"
        },
        "id": "Htg1X2waffAJ",
        "outputId": "fce20451-aefd-4990-e1dd-044827a738d2"
      },
      "execution_count": 15,
      "outputs": [
        {
          "output_type": "stream",
          "name": "stdout",
          "text": [
            "/content/results/mnet_cat_1_heatmap.avi\n",
            "Error reading frame\n",
            "(608, 1080) (1080, 608, 3)\n",
            "/content/results/mnet_cat_2_heatmap.avi\n",
            "Error reading frame\n",
            "(360, 640) (640, 360, 3)\n",
            "/content/results/mnet_dog_3_heatmap.avi\n",
            "Error reading frame\n",
            "(720, 1280) (1280, 720, 3)\n",
            "/content/results/mnet_dog_4_heatmap.avi\n",
            "Error reading frame\n",
            "(608, 1080) (1080, 608, 3)\n"
          ]
        }
      ]
    },
    {
      "cell_type": "code",
      "source": [
        "def GIF_from_vid(vid_file, gif_file, fps = 20, skip = 2):\n",
        "    i = 0\n",
        "\n",
        "    cap = cv2.VideoCapture(vid_file)\n",
        "    width  = int(cap.get(3) )  # get `width` \n",
        "    height = int(cap.get(4) )  # get `height` \n",
        "\n",
        "    # Create a writer object to write the frames to a GIF file\n",
        "    writer = imageio.get_writer(gif_file, mode='I',fps=fps)\n",
        "\n",
        "    # Check if the webcam is opened correctly\n",
        "    if not cap.isOpened():\n",
        "        print(\"Error opening video stream or file\")\n",
        "\n",
        "\n",
        "    # Read the video frames\n",
        "    while cap.isOpened():\n",
        "        ret, frame = cap.read()\n",
        "\n",
        "        # If the frame was not read successfully, break the loop\n",
        "        if not ret:\n",
        "            print(\"Error reading frame\")\n",
        "            break\n",
        "        i+=1\n",
        "        if( i % skip == 0):\n",
        "            continue\n",
        "        # add current frame to the GIF file\n",
        "        frame = cv2.cvtColor(frame, cv2.COLOR_BGR2RGB)\n",
        "        writer.append_data(frame)\n",
        "\n",
        "    # Close the reader and writer objects\n",
        "    writer.close()\n",
        "    cap.release()\n"
      ],
      "metadata": {
        "id": "3fZ1fLoECfUf"
      },
      "execution_count": 16,
      "outputs": []
    },
    {
      "cell_type": "code",
      "source": [
        "gifs_dir ='/content/gifs'\n",
        "if not os.path.exists(gifs_dir):\n",
        "    os.mkdir(gifs_dir)\n",
        "    print(f\"Directory '{gifs_dir}' created!\")"
      ],
      "metadata": {
        "colab": {
          "base_uri": "https://localhost:8080/"
        },
        "id": "ra5fQWv6TMiv",
        "outputId": "1202fad0-0a1a-4645-e4f3-68a60eea6ff7"
      },
      "execution_count": 17,
      "outputs": [
        {
          "output_type": "stream",
          "name": "stdout",
          "text": [
            "Directory '/content/gifs' created!\n"
          ]
        }
      ]
    },
    {
      "cell_type": "code",
      "source": [
        "\n",
        "for filename in os.listdir(results_path):\n",
        "    if filename.endswith(\".avi\"):\n",
        "        vid_file = os.path.join(results_path, filename)\n",
        "        gif_file = os.path.join(gifs_dir,filename[:-4] + \".gif\")\n",
        "        GIF_from_vid(vid_file, gif_file, fps = 20, skip = 2)"
      ],
      "metadata": {
        "colab": {
          "base_uri": "https://localhost:8080/"
        },
        "id": "K4cSov0HEPJe",
        "outputId": "a7f874f2-f29a-4e07-bebd-4208b4721b00"
      },
      "execution_count": 18,
      "outputs": [
        {
          "output_type": "stream",
          "name": "stdout",
          "text": [
            "Error reading frame\n",
            "Error reading frame\n",
            "Error reading frame\n",
            "Error reading frame\n",
            "Error reading frame\n",
            "Error reading frame\n",
            "Error reading frame\n",
            "Error reading frame\n"
          ]
        }
      ]
    },
    {
      "cell_type": "code",
      "source": [
        "!zip -r /content/gifs.zip /content/gifs"
      ],
      "metadata": {
        "colab": {
          "base_uri": "https://localhost:8080/"
        },
        "id": "f5mODhsCcH_A",
        "outputId": "30f5f362-76ad-46b5-b0a4-be332ce6e223"
      },
      "execution_count": 19,
      "outputs": [
        {
          "output_type": "stream",
          "name": "stdout",
          "text": [
            "  adding: content/gifs/ (stored 0%)\n",
            "  adding: content/gifs/cat_2_heatmap.gif (deflated 0%)\n",
            "  adding: content/gifs/mnet_dog_4_heatmap.gif (deflated 0%)\n",
            "  adding: content/gifs/mnet_cat_2_heatmap.gif (deflated 0%)\n",
            "  adding: content/gifs/dog_4_heatmap.gif (deflated 0%)\n",
            "  adding: content/gifs/dog_3_heatmap.gif (deflated 0%)\n",
            "  adding: content/gifs/cat_1_heatmap.gif (deflated 0%)\n",
            "  adding: content/gifs/mnet_cat_1_heatmap.gif (deflated 0%)\n",
            "  adding: content/gifs/mnet_dog_3_heatmap.gif (deflated 0%)\n"
          ]
        }
      ]
    },
    {
      "cell_type": "code",
      "source": [
        "!zip -r /content/results.zip /content/results"
      ],
      "metadata": {
        "colab": {
          "base_uri": "https://localhost:8080/"
        },
        "id": "kzMSmPnNWhuB",
        "outputId": "e94ac4b6-ecdf-4453-aaf2-f7303a005886"
      },
      "execution_count": 20,
      "outputs": [
        {
          "output_type": "stream",
          "name": "stdout",
          "text": [
            "  adding: content/results/ (stored 0%)\n",
            "  adding: content/results/dog_heatmap_overlayed.png (deflated 6%)\n",
            "  adding: content/results/dog_4_heatmap.avi (deflated 1%)\n",
            "  adding: content/results/mnet_cat_2_heatmap.avi (deflated 2%)\n",
            "  adding: content/results/cat_1_heatmap.avi (deflated 1%)\n",
            "  adding: content/results/2 cats_heatmap_only.png (deflated 50%)\n",
            "  adding: content/results/cat_2_heatmap.avi (deflated 1%)\n",
            "  adding: content/results/cat_heatmap_overlayed.png (deflated 1%)\n",
            "  adding: content/results/2 dogs_heatmap_only.png (deflated 35%)\n",
            "  adding: content/results/cat_heatmap_only.png (deflated 35%)\n",
            "  adding: content/results/2 cats_heatmap_overlayed.png (deflated 2%)\n",
            "  adding: content/results/mnet_dog_3_heatmap.avi (deflated 1%)\n",
            "  adding: content/results/2 dogs_heatmap_overlayed.png (deflated 1%)\n",
            "  adding: content/results/mnet_dog_4_heatmap.avi (deflated 2%)\n",
            "  adding: content/results/mnet_cat_1_heatmap.avi (deflated 3%)\n",
            "  adding: content/results/dog_heatmap_only.png (deflated 39%)\n",
            "  adding: content/results/dog_3_heatmap.avi (deflated 1%)\n"
          ]
        }
      ]
    }
  ]
}